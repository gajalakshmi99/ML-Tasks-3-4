{
 "cells": [
  {
   "cell_type": "markdown",
   "metadata": {},
   "source": [
    "###### Assessment"
   ]
  },
  {
   "cell_type": "markdown",
   "metadata": {},
   "source": [
    "###### I am going to provide two .csv files , you are supposed to work on them and have to provide solutions to the following problems"
   ]
  },
  {
   "cell_type": "markdown",
   "metadata": {},
   "source": [
    "###### import necessary libraries"
   ]
  },
  {
   "cell_type": "code",
   "execution_count": 26,
   "metadata": {},
   "outputs": [],
   "source": [
    "import numpy as np \n",
    "import pandas as pd\n",
    "import sklearn as sns\n",
    "from sklearn import preprocessing\n",
    "from sklearn.preprocessing import OrdinalEncoder\n",
    "from sklearn.preprocessing import OneHotEncoder\n",
    "import matplotlib.pyplot as plt\n",
    "import os"
   ]
  },
  {
   "cell_type": "markdown",
   "metadata": {},
   "source": [
    "###### merge those two csv files (after getting as dataframes, get them as a single dataframe)"
   ]
  },
  {
   "cell_type": "code",
   "execution_count": 27,
   "metadata": {},
   "outputs": [
    {
     "data": {
      "text/html": [
       "<div>\n",
       "<style scoped>\n",
       "    .dataframe tbody tr th:only-of-type {\n",
       "        vertical-align: middle;\n",
       "    }\n",
       "\n",
       "    .dataframe tbody tr th {\n",
       "        vertical-align: top;\n",
       "    }\n",
       "\n",
       "    .dataframe thead th {\n",
       "        text-align: right;\n",
       "    }\n",
       "</style>\n",
       "<table border=\"1\" class=\"dataframe\">\n",
       "  <thead>\n",
       "    <tr style=\"text-align: right;\">\n",
       "      <th></th>\n",
       "      <th>python</th>\n",
       "      <th>mysql</th>\n",
       "      <th>Previous Geekions</th>\n",
       "      <th>CodeKata Score</th>\n",
       "      <th>Rising</th>\n",
       "      <th>python_en</th>\n",
       "      <th>computational_thinking</th>\n",
       "    </tr>\n",
       "  </thead>\n",
       "  <tbody>\n",
       "    <tr>\n",
       "      <th>count</th>\n",
       "      <td>119.000000</td>\n",
       "      <td>119.000000</td>\n",
       "      <td>119.000000</td>\n",
       "      <td>119.000000</td>\n",
       "      <td>119.000000</td>\n",
       "      <td>35.000000</td>\n",
       "      <td>35.000000</td>\n",
       "    </tr>\n",
       "    <tr>\n",
       "      <th>mean</th>\n",
       "      <td>54.352941</td>\n",
       "      <td>23.500000</td>\n",
       "      <td>3842.352941</td>\n",
       "      <td>4051.764706</td>\n",
       "      <td>209.411765</td>\n",
       "      <td>29.657143</td>\n",
       "      <td>2.200000</td>\n",
       "    </tr>\n",
       "    <tr>\n",
       "      <th>std</th>\n",
       "      <td>44.272526</td>\n",
       "      <td>33.276671</td>\n",
       "      <td>4406.339992</td>\n",
       "      <td>4551.951881</td>\n",
       "      <td>553.445746</td>\n",
       "      <td>30.582524</td>\n",
       "      <td>7.015948</td>\n",
       "    </tr>\n",
       "    <tr>\n",
       "      <th>min</th>\n",
       "      <td>-1.000000</td>\n",
       "      <td>-1.000000</td>\n",
       "      <td>0.000000</td>\n",
       "      <td>0.000000</td>\n",
       "      <td>0.000000</td>\n",
       "      <td>-1.000000</td>\n",
       "      <td>-1.000000</td>\n",
       "    </tr>\n",
       "    <tr>\n",
       "      <th>25%</th>\n",
       "      <td>0.000000</td>\n",
       "      <td>0.000000</td>\n",
       "      <td>740.000000</td>\n",
       "      <td>740.000000</td>\n",
       "      <td>0.000000</td>\n",
       "      <td>0.000000</td>\n",
       "      <td>0.000000</td>\n",
       "    </tr>\n",
       "    <tr>\n",
       "      <th>50%</th>\n",
       "      <td>82.000000</td>\n",
       "      <td>4.000000</td>\n",
       "      <td>2410.000000</td>\n",
       "      <td>2410.000000</td>\n",
       "      <td>0.000000</td>\n",
       "      <td>20.000000</td>\n",
       "      <td>0.000000</td>\n",
       "    </tr>\n",
       "    <tr>\n",
       "      <th>75%</th>\n",
       "      <td>100.000000</td>\n",
       "      <td>33.000000</td>\n",
       "      <td>5340.000000</td>\n",
       "      <td>5975.000000</td>\n",
       "      <td>0.000000</td>\n",
       "      <td>52.000000</td>\n",
       "      <td>0.000000</td>\n",
       "    </tr>\n",
       "    <tr>\n",
       "      <th>max</th>\n",
       "      <td>100.000000</td>\n",
       "      <td>100.000000</td>\n",
       "      <td>24500.000000</td>\n",
       "      <td>24500.000000</td>\n",
       "      <td>3140.000000</td>\n",
       "      <td>100.000000</td>\n",
       "      <td>39.000000</td>\n",
       "    </tr>\n",
       "  </tbody>\n",
       "</table>\n",
       "</div>"
      ],
      "text/plain": [
       "           python       mysql  Previous Geekions  CodeKata Score       Rising  \\\n",
       "count  119.000000  119.000000         119.000000      119.000000   119.000000   \n",
       "mean    54.352941   23.500000        3842.352941     4051.764706   209.411765   \n",
       "std     44.272526   33.276671        4406.339992     4551.951881   553.445746   \n",
       "min     -1.000000   -1.000000           0.000000        0.000000     0.000000   \n",
       "25%      0.000000    0.000000         740.000000      740.000000     0.000000   \n",
       "50%     82.000000    4.000000        2410.000000     2410.000000     0.000000   \n",
       "75%    100.000000   33.000000        5340.000000     5975.000000     0.000000   \n",
       "max    100.000000  100.000000       24500.000000    24500.000000  3140.000000   \n",
       "\n",
       "        python_en  computational_thinking  \n",
       "count   35.000000               35.000000  \n",
       "mean    29.657143                2.200000  \n",
       "std     30.582524                7.015948  \n",
       "min     -1.000000               -1.000000  \n",
       "25%      0.000000                0.000000  \n",
       "50%     20.000000                0.000000  \n",
       "75%     52.000000                0.000000  \n",
       "max    100.000000               39.000000  "
      ]
     },
     "execution_count": 27,
     "metadata": {},
     "output_type": "execute_result"
    }
   ],
   "source": [
    "file1=pd.read_csv(\"C://Users//lenovo//Downloads//college_1.csv\")\n",
    "file2=pd.read_csv(\"C://Users//lenovo//Downloads//college_2.csv\")\n",
    "#file2.info()\n",
    "merged_file=pd.concat([file1,file2])\n",
    "merged_file.describe()"
   ]
  },
  {
   "cell_type": "code",
   "execution_count": 28,
   "metadata": {},
   "outputs": [
    {
     "name": "stdout",
     "output_type": "stream",
     "text": [
      "Index(['name', 'python', 'mysql', 'previous_geekions', 'codekata_score',\n",
      "       'department', 'rising', 'python_en', 'computational_thinking'],\n",
      "      dtype='object')\n"
     ]
    }
   ],
   "source": [
    "merged_file.columns= merged_file.columns.str.strip().str.lower().str.replace(' ', '_').str.replace('(', '').str.replace(')', '')\n",
    "print(merged_file.columns)"
   ]
  },
  {
   "cell_type": "markdown",
   "metadata": {},
   "source": [
    "###### Take each csv file , split that csv file into multiple categories (example csv files are added in the repo) \n"
   ]
  },
  {
   "cell_type": "markdown",
   "metadata": {},
   "source": [
    "###### consider if the codekata score exceeds 15000 points(present week) then make a csv on those observations as Exceeded expectations.csv\n"
   ]
  },
  {
   "cell_type": "code",
   "execution_count": 29,
   "metadata": {},
   "outputs": [
    {
     "name": "stdout",
     "output_type": "stream",
     "text": [
      "   Unnamed: 0           name  python  mysql  previous_geekions  \\\n",
      "0           0      A.Dharani    82.0   20.0              24500   \n",
      "1           1    V.JEEVITHA     82.0   20.0              21740   \n",
      "2           2    HEMAVATHI.R   100.0  100.0              19680   \n",
      "3           0  ASHOK KUMAR K   100.0   31.0              19400   \n",
      "\n",
      "   codekata_score                              department  rising  python_en  \\\n",
      "0           24500        Computer Science and Engineering       0        NaN   \n",
      "1           21740        Computer Science and Engineering       0        NaN   \n",
      "2           19680        Computer Science and Engineering       0        NaN   \n",
      "3           19400  Electronics and Electrical Engineering       0        0.0   \n",
      "\n",
      "   computational_thinking  \n",
      "0                     NaN  \n",
      "1                     NaN  \n",
      "2                     NaN  \n",
      "3                     9.0  \n"
     ]
    }
   ],
   "source": [
    "exceeded_exct=merged_file[merged_file['codekata_score']>15000]\n",
    "exceeded_exct.to_csv(\"Exceeded_Expectation\",index=True)\n",
    "print(pd.read_csv('Exceeded_Expectation'))\n"
   ]
  },
  {
   "cell_type": "markdown",
   "metadata": {},
   "source": [
    "###### if  10000<codekata score<15000   (Reached_expectations.csv)\n",
    "\n"
   ]
  },
  {
   "cell_type": "code",
   "execution_count": 30,
   "metadata": {},
   "outputs": [
    {
     "name": "stdout",
     "output_type": "stream",
     "text": [
      "                name  python  mysql  previous_geekions  codekata_score  \\\n",
      "0        Mugunthan S   100.0   47.0              10610           10610   \n",
      "1            Chandru     0.0    0.0              14150           14490   \n",
      "2  Ganesh Ramkumar R    -1.0   24.0               8790           10790   \n",
      "3    Bodipudi Harini    -1.0   35.0              10040           10040   \n",
      "\n",
      "                                  department  rising  python_en  \\\n",
      "0           Computer Science and Engineering       0        NaN   \n",
      "1           Computer Science and Engineering     340       20.0   \n",
      "2           Computer Science and Engineering    2000       55.0   \n",
      "3  Electronics and Communication Engineering       0        0.0   \n",
      "\n",
      "   computational_thinking  \n",
      "0                     NaN  \n",
      "1                     0.0  \n",
      "2                     6.0  \n",
      "3                    -1.0  \n"
     ]
    }
   ],
   "source": [
    "reached_exct=merged_file[merged_file['codekata_score']>=10000]\n",
    "reached_exct=reached_exct[reached_exct[\"codekata_score\"]<15000]\n",
    "\n",
    "#print(reached_exct)\n",
    "reached_exct.to_csv(\"Reached_Expectation\",index=False)\n",
    "print(pd.read_csv('Reached_Expectation').head())\n"
   ]
  },
  {
   "cell_type": "markdown",
   "metadata": {},
   "source": [
    "###### if  7000<codekata score<10000   (Needs_Improvement.csv)\n"
   ]
  },
  {
   "cell_type": "code",
   "execution_count": 31,
   "metadata": {},
   "outputs": [
    {
     "name": "stdout",
     "output_type": "stream",
     "text": [
      "                      name  python  mysql  previous_geekions  codekata_score  \\\n",
      "0              Sathammai.S   100.0    8.0               8980            8980   \n",
      "1             NIVEESHWAR S   100.0    0.0               8200            8200   \n",
      "2            KALAIARASAN K    85.0   47.0               7750            7880   \n",
      "3     MOHAMED ZUBAIR AHMED    82.0    4.0               7020            7020   \n",
      "4                VIINU V P    -1.0   24.0               9150            9150   \n",
      "5               Poojitha Y     0.0   35.0               7210            8970   \n",
      "6   Gowtham Chandrasekaran    -1.0    0.0               7250            8950   \n",
      "7                Gowtham R    -1.0    4.0               8650            8650   \n",
      "8                 shifak N    58.0    0.0               5180            8320   \n",
      "9                  Balaji     -1.0   20.0               6170            8160   \n",
      "10                Rushitha    -1.0   62.0               7470            8090   \n",
      "11    Balaraman Muthupandi    -1.0    0.0               7670            8050   \n",
      "12                JPradhap   100.0    0.0               7340            8030   \n",
      "13           SRIRAMKUMAR B    -1.0    0.0               6400            7940   \n",
      "14               Praneetha    -1.0  100.0               7170            7730   \n",
      "15             Rahul Raj K    -1.0    0.0               6280            7640   \n",
      "16                 Guhan S    -1.0   35.0               7310            7630   \n",
      "17            Suryarajan S    -1.0   31.0               6710            7550   \n",
      "\n",
      "                                   department  rising  python_en  \\\n",
      "0            Computer Science and Engineering       0        NaN   \n",
      "1            Computer Science and Engineering       0        NaN   \n",
      "2   Electronics and Communication Engineering     130        NaN   \n",
      "3            Computer Science and Engineering       0        NaN   \n",
      "4      Electronics and Electrical Engineering       0      100.0   \n",
      "5            Computer Science and Engineering    1760       78.0   \n",
      "6            Computer Science and Engineering    1700        0.0   \n",
      "7   Electronics and Communication Engineering       0       60.0   \n",
      "8      Electronics and Electrical Engineering    3140        0.0   \n",
      "9      Electronics and Electrical Engineering    1990      100.0   \n",
      "10           Computer Science and Engineering     620       15.0   \n",
      "11           Computer Science and Engineering     380        9.0   \n",
      "12     Electronics and Electrical Engineering     690        0.0   \n",
      "13           Computer Science and Engineering    1540        0.0   \n",
      "14  Electronics and Communication Engineering     560       23.0   \n",
      "15           Computer Science and Engineering    1360        0.0   \n",
      "16  Electronics and Communication Engineering     320       72.0   \n",
      "17           Computer Science and Engineering     840       63.0   \n",
      "\n",
      "    computational_thinking  \n",
      "0                      NaN  \n",
      "1                      NaN  \n",
      "2                      NaN  \n",
      "3                      NaN  \n",
      "4                     -1.0  \n",
      "5                      0.0  \n",
      "6                      3.0  \n",
      "7                      6.0  \n",
      "8                      0.0  \n",
      "9                      0.0  \n",
      "10                     9.0  \n",
      "11                     0.0  \n",
      "12                     0.0  \n",
      "13                     0.0  \n",
      "14                    -1.0  \n",
      "15                     0.0  \n",
      "16                    39.0  \n",
      "17                     0.0  \n"
     ]
    }
   ],
   "source": [
    "needs_imp=merged_file[merged_file['codekata_score']>7000]\n",
    "needs_imp=needs_imp[needs_imp['codekata_score']<10000]\n",
    "needs_imp.to_csv(\"Needs Improvement\",index=False)\n",
    "print(pd.read_csv('Needs Improvement'))\n"
   ]
  },
  {
   "cell_type": "markdown",
   "metadata": {},
   "source": [
    "###### if  codekate score < 7000        (Unsatisfactory.csv)"
   ]
  },
  {
   "cell_type": "code",
   "execution_count": 32,
   "metadata": {},
   "outputs": [
    {
     "name": "stdout",
     "output_type": "stream",
     "text": [
      "               name  python  mysql  previous_geekions  codekata_score  \\\n",
      "0        J.SUGANTHI    27.0  50.00               5860            5860   \n",
      "1      thamizhpaana    29.0   0.00               5500            5500   \n",
      "2   Iyappan Samiraj    50.0  24.00               5400            5400   \n",
      "3      Ponniyamma.R   100.0  11.25               5380            5380   \n",
      "4         SABAPATHI   100.0   0.00               5280            5280   \n",
      "..              ...     ...    ...                ...             ...   \n",
      "88    praveen raj j    24.0   0.00               2380            2380   \n",
      "89       AMARNATH D    -1.0  12.00               1890            1890   \n",
      "90             bala    32.0   0.00               1720            1720   \n",
      "91             XY Z    -1.0  -1.00                  0               0   \n",
      "92        Hariharan    -1.0  -1.00                  0               0   \n",
      "\n",
      "                                   department  rising  python_en  \\\n",
      "0   Electronics and Communication Engineering       0        NaN   \n",
      "1            Computer Science and Engineering       0        NaN   \n",
      "2   Electronics and Communication Engineering       0        NaN   \n",
      "3            Computer Science and Engineering       0        NaN   \n",
      "4            Computer Science and Engineering       0        NaN   \n",
      "..                                        ...     ...        ...   \n",
      "88           Computer Science and Engineering       0       -1.0   \n",
      "89  Electronics and Communication Engineering       0       52.0   \n",
      "90  Electronics and Communication Engineering       0       49.0   \n",
      "91           Computer Science and Engineering       0       20.0   \n",
      "92           Computer Science and Engineering       0       -1.0   \n",
      "\n",
      "    computational_thinking  \n",
      "0                      NaN  \n",
      "1                      NaN  \n",
      "2                      NaN  \n",
      "3                      NaN  \n",
      "4                      NaN  \n",
      "..                     ...  \n",
      "88                     0.0  \n",
      "89                    -1.0  \n",
      "90                    -1.0  \n",
      "91                    -1.0  \n",
      "92                     0.0  \n",
      "\n",
      "[93 rows x 9 columns]\n"
     ]
    }
   ],
   "source": [
    "unsatis=merged_file[merged_file['codekata_score']<7000]\n",
    "unsatis.to_csv(\"Unsatisfactory\",index=False)\n",
    "print(pd.read_csv('Unsatisfactory'))\n"
   ]
  },
  {
   "cell_type": "markdown",
   "metadata": {},
   "source": [
    "###### Average of previous week geekions vs this week geekions (i.e Previous Geekions vs CodeKata Score)"
   ]
  },
  {
   "cell_type": "code",
   "execution_count": 36,
   "metadata": {},
   "outputs": [
    {
     "name": "stdout",
     "output_type": "stream",
     "text": [
      "3842.3529411764707 4051.764705882353\n"
     ]
    }
   ],
   "source": [
    "p=merged_file['previous_geekions'].mean()\n",
    "l=merged_file['codekata_score'].mean()\n",
    "print(p,l)\n"
   ]
  },
  {
   "cell_type": "markdown",
   "metadata": {},
   "source": [
    "###### No of students participated "
   ]
  },
  {
   "cell_type": "code",
   "execution_count": 37,
   "metadata": {},
   "outputs": [
    {
     "data": {
      "text/plain": [
       "name    119\n",
       "dtype: int64"
      ]
     },
     "execution_count": 37,
     "metadata": {},
     "output_type": "execute_result"
    }
   ],
   "source": [
    "merged_file[[\"name\"]].count()\n"
   ]
  },
  {
   "cell_type": "markdown",
   "metadata": {},
   "source": [
    "###### #Average completion of python course or my_sql or python english or computational thinking"
   ]
  },
  {
   "cell_type": "code",
   "execution_count": 38,
   "metadata": {},
   "outputs": [
    {
     "data": {
      "text/plain": [
       "python                    54.352941\n",
       "python_en                 29.657143\n",
       "mysql                     23.500000\n",
       "computational_thinking     2.200000\n",
       "dtype: float64"
      ]
     },
     "execution_count": 38,
     "metadata": {},
     "output_type": "execute_result"
    }
   ],
   "source": [
    "merged_file[['python','python_en','mysql','computational_thinking']].mean()"
   ]
  },
  {
   "cell_type": "markdown",
   "metadata": {},
   "source": [
    "###### rising star of the week (top 3 candidate who performed well in that particular week)"
   ]
  },
  {
   "cell_type": "code",
   "execution_count": 39,
   "metadata": {},
   "outputs": [
    {
     "data": {
      "text/html": [
       "<div>\n",
       "<style scoped>\n",
       "    .dataframe tbody tr th:only-of-type {\n",
       "        vertical-align: middle;\n",
       "    }\n",
       "\n",
       "    .dataframe tbody tr th {\n",
       "        vertical-align: top;\n",
       "    }\n",
       "\n",
       "    .dataframe thead th {\n",
       "        text-align: right;\n",
       "    }\n",
       "</style>\n",
       "<table border=\"1\" class=\"dataframe\">\n",
       "  <thead>\n",
       "    <tr style=\"text-align: right;\">\n",
       "      <th></th>\n",
       "      <th>name</th>\n",
       "      <th>python</th>\n",
       "      <th>mysql</th>\n",
       "      <th>previous_geekions</th>\n",
       "      <th>codekata_score</th>\n",
       "      <th>department</th>\n",
       "      <th>rising</th>\n",
       "      <th>python_en</th>\n",
       "      <th>computational_thinking</th>\n",
       "    </tr>\n",
       "  </thead>\n",
       "  <tbody>\n",
       "    <tr>\n",
       "      <th>0</th>\n",
       "      <td>A.Dharani</td>\n",
       "      <td>82.0</td>\n",
       "      <td>20.0</td>\n",
       "      <td>24500</td>\n",
       "      <td>24500</td>\n",
       "      <td>Computer Science and Engineering</td>\n",
       "      <td>0</td>\n",
       "      <td>NaN</td>\n",
       "      <td>NaN</td>\n",
       "    </tr>\n",
       "    <tr>\n",
       "      <th>1</th>\n",
       "      <td>V.JEEVITHA</td>\n",
       "      <td>82.0</td>\n",
       "      <td>20.0</td>\n",
       "      <td>21740</td>\n",
       "      <td>21740</td>\n",
       "      <td>Computer Science and Engineering</td>\n",
       "      <td>0</td>\n",
       "      <td>NaN</td>\n",
       "      <td>NaN</td>\n",
       "    </tr>\n",
       "    <tr>\n",
       "      <th>2</th>\n",
       "      <td>HEMAVATHI.R</td>\n",
       "      <td>100.0</td>\n",
       "      <td>100.0</td>\n",
       "      <td>19680</td>\n",
       "      <td>19680</td>\n",
       "      <td>Computer Science and Engineering</td>\n",
       "      <td>0</td>\n",
       "      <td>NaN</td>\n",
       "      <td>NaN</td>\n",
       "    </tr>\n",
       "    <tr>\n",
       "      <th>0</th>\n",
       "      <td>ASHOK KUMAR K</td>\n",
       "      <td>100.0</td>\n",
       "      <td>31.0</td>\n",
       "      <td>19400</td>\n",
       "      <td>19400</td>\n",
       "      <td>Electronics and Electrical Engineering</td>\n",
       "      <td>0</td>\n",
       "      <td>0.0</td>\n",
       "      <td>9.0</td>\n",
       "    </tr>\n",
       "    <tr>\n",
       "      <th>1</th>\n",
       "      <td>Chandru</td>\n",
       "      <td>0.0</td>\n",
       "      <td>0.0</td>\n",
       "      <td>14150</td>\n",
       "      <td>14490</td>\n",
       "      <td>Computer Science and Engineering</td>\n",
       "      <td>340</td>\n",
       "      <td>20.0</td>\n",
       "      <td>0.0</td>\n",
       "    </tr>\n",
       "  </tbody>\n",
       "</table>\n",
       "</div>"
      ],
      "text/plain": [
       "            name  python  mysql  previous_geekions  codekata_score  \\\n",
       "0      A.Dharani    82.0   20.0              24500           24500   \n",
       "1    V.JEEVITHA     82.0   20.0              21740           21740   \n",
       "2    HEMAVATHI.R   100.0  100.0              19680           19680   \n",
       "0  ASHOK KUMAR K   100.0   31.0              19400           19400   \n",
       "1        Chandru     0.0    0.0              14150           14490   \n",
       "\n",
       "                               department  rising  python_en  \\\n",
       "0        Computer Science and Engineering       0        NaN   \n",
       "1        Computer Science and Engineering       0        NaN   \n",
       "2        Computer Science and Engineering       0        NaN   \n",
       "0  Electronics and Electrical Engineering       0        0.0   \n",
       "1        Computer Science and Engineering     340       20.0   \n",
       "\n",
       "   computational_thinking  \n",
       "0                     NaN  \n",
       "1                     NaN  \n",
       "2                     NaN  \n",
       "0                     9.0  \n",
       "1                     0.0  "
      ]
     },
     "execution_count": 39,
     "metadata": {},
     "output_type": "execute_result"
    }
   ],
   "source": [
    "mf=merged_file\n",
    "mf.nlargest(5,[\"codekata_score\"])"
   ]
  },
  {
   "cell_type": "markdown",
   "metadata": {},
   "source": [
    "###### Shining stars of the week (top 3 candidates who has highest geekions)"
   ]
  },
  {
   "cell_type": "code",
   "execution_count": 40,
   "metadata": {},
   "outputs": [
    {
     "data": {
      "text/html": [
       "<div>\n",
       "<style scoped>\n",
       "    .dataframe tbody tr th:only-of-type {\n",
       "        vertical-align: middle;\n",
       "    }\n",
       "\n",
       "    .dataframe tbody tr th {\n",
       "        vertical-align: top;\n",
       "    }\n",
       "\n",
       "    .dataframe thead th {\n",
       "        text-align: right;\n",
       "    }\n",
       "</style>\n",
       "<table border=\"1\" class=\"dataframe\">\n",
       "  <thead>\n",
       "    <tr style=\"text-align: right;\">\n",
       "      <th></th>\n",
       "      <th>name</th>\n",
       "      <th>python</th>\n",
       "      <th>mysql</th>\n",
       "      <th>previous_geekions</th>\n",
       "      <th>codekata_score</th>\n",
       "      <th>department</th>\n",
       "      <th>rising</th>\n",
       "      <th>python_en</th>\n",
       "      <th>computational_thinking</th>\n",
       "    </tr>\n",
       "  </thead>\n",
       "  <tbody>\n",
       "    <tr>\n",
       "      <th>0</th>\n",
       "      <td>A.Dharani</td>\n",
       "      <td>82.0</td>\n",
       "      <td>20.0</td>\n",
       "      <td>24500</td>\n",
       "      <td>24500</td>\n",
       "      <td>Computer Science and Engineering</td>\n",
       "      <td>0</td>\n",
       "      <td>NaN</td>\n",
       "      <td>NaN</td>\n",
       "    </tr>\n",
       "    <tr>\n",
       "      <th>1</th>\n",
       "      <td>V.JEEVITHA</td>\n",
       "      <td>82.0</td>\n",
       "      <td>20.0</td>\n",
       "      <td>21740</td>\n",
       "      <td>21740</td>\n",
       "      <td>Computer Science and Engineering</td>\n",
       "      <td>0</td>\n",
       "      <td>NaN</td>\n",
       "      <td>NaN</td>\n",
       "    </tr>\n",
       "    <tr>\n",
       "      <th>2</th>\n",
       "      <td>HEMAVATHI.R</td>\n",
       "      <td>100.0</td>\n",
       "      <td>100.0</td>\n",
       "      <td>19680</td>\n",
       "      <td>19680</td>\n",
       "      <td>Computer Science and Engineering</td>\n",
       "      <td>0</td>\n",
       "      <td>NaN</td>\n",
       "      <td>NaN</td>\n",
       "    </tr>\n",
       "  </tbody>\n",
       "</table>\n",
       "</div>"
      ],
      "text/plain": [
       "          name  python  mysql  previous_geekions  codekata_score  \\\n",
       "0    A.Dharani    82.0   20.0              24500           24500   \n",
       "1  V.JEEVITHA     82.0   20.0              21740           21740   \n",
       "2  HEMAVATHI.R   100.0  100.0              19680           19680   \n",
       "\n",
       "                         department  rising  python_en  computational_thinking  \n",
       "0  Computer Science and Engineering       0        NaN                     NaN  \n",
       "1  Computer Science and Engineering       0        NaN                     NaN  \n",
       "2  Computer Science and Engineering       0        NaN                     NaN  "
      ]
     },
     "execution_count": 40,
     "metadata": {},
     "output_type": "execute_result"
    }
   ],
   "source": [
    "mf.nlargest(3,[\"previous_geekions\"])  "
   ]
  },
  {
   "cell_type": "markdown",
   "metadata": {},
   "source": [
    "###### Department wise codekata performence (pie chart)"
   ]
  },
  {
   "cell_type": "code",
   "execution_count": 16,
   "metadata": {},
   "outputs": [
    {
     "name": "stdout",
     "output_type": "stream",
     "text": [
      "[0 1 2]\n"
     ]
    }
   ],
   "source": [
    "#from sklearn.preprocessing import LabelEncoder\n",
    "#encoder=LabelEncoder()\n",
    "#mf[\"department\"]=encoder.fit_transform(mf[\"department\"].astype('str'))\n",
    "#print(mf[\"department\"].unique())\n",
    "\n"
   ]
  },
  {
   "cell_type": "code",
   "execution_count": 41,
   "metadata": {},
   "outputs": [
    {
     "data": {
      "text/plain": [
       "<AxesSubplot:ylabel='codekata_score'>"
      ]
     },
     "execution_count": 41,
     "metadata": {},
     "output_type": "execute_result"
    },
    {
     "data": {
      "image/png": "[encoded data removed]",
      "text/plain": [
       "<Figure size 432x288 with 1 Axes>"
      ]
     },
     "metadata": {},
     "output_type": "display_data"
    }
   ],
   "source": [
    "mf.groupby(\"department\")[\"codekata_score\"].count().plot(kind=\"pie\")"
   ]
  },
  {
   "cell_type": "markdown",
   "metadata": {},
   "source": [
    "###### Department wise toppers (horizantal bar graph or any visual representations of your choice)"
   ]
  },
  {
   "cell_type": "code",
   "execution_count": 46,
   "metadata": {},
   "outputs": [
    {
     "name": "stdout",
     "output_type": "stream",
     "text": [
      "['Computer Science and Engineering'\n",
      " 'Electronics and Communication Engineering'\n",
      " 'Electronics and Electrical Engineering']\n",
      "department                                  \n",
      "Computer Science and Engineering           0          A.Dharani\n",
      "Electronics and Communication Engineering  3    Bodipudi Harini\n",
      "Electronics and Electrical Engineering     0      ASHOK KUMAR K\n",
      "Name: name, dtype: object\n"
     ]
    }
   ],
   "source": [
    "dept = mf.sort_values(by = 'department')\n",
    "op = dept['department'].unique()\n",
    "print(op)\n",
    "dept_name = (dept.groupby('department').apply(lambda x: x[x['codekata_score'] == x['codekata_score'].max()]))\n",
    "op_dept_name = dept_name[\"name\"]\n",
    "print(op_dept_name)"
   ]
  },
  {
   "cell_type": "code",
   "execution_count": null,
   "metadata": {},
   "outputs": [],
   "source": []
  }
 ],
 "metadata": {
  "kernelspec": {
   "display_name": "Python 3",
   "language": "python",
   "name": "python3"
  },
  "language_info": {
   "codemirror_mode": {
    "name": "ipython",
    "version": 3
   },
   "file_extension": ".py",
   "mimetype": "text/x-python",
   "name": "python",
   "nbconvert_exporter": "python",
   "pygments_lexer": "ipython3",
   "version": "3.8.5"
  }
 },
 "nbformat": 4,
 "nbformat_minor": 2
}
